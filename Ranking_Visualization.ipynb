{
 "cells": [
  {
   "cell_type": "code",
   "execution_count": 2,
   "metadata": {},
   "outputs": [],
   "source": [
    "import sqlite3 \n",
    "import matplotlib.pyplot as plt \n",
    "import numpy as np\n",
    "import pandas as pd \n",
    "import seaborn as sns\n"
   ]
  },
  {
   "cell_type": "code",
   "execution_count": 8,
   "metadata": {},
   "outputs": [
    {
     "name": "stdout",
     "output_type": "stream",
     "text": [
      "(39, 1, 1.0, 1.6092715217898363, 'https://ateebwritings.wordpress.com', 1)\n",
      "(25, 8, 1.0, 0.47682119349683255, 'https://ateebwritings.wordpress.com/2020/10/23/example-post-2', 8)\n",
      "(24, 9, 1.0, 0.41721854403126946, 'https://ateebwritings.wordpress.com/2020/10/23/example-post', 9)\n",
      "(24, 5, 1.0, 0.41721854403126946, 'https://ateebwritings.wordpress.com/2020/10/23/example-post-3', 5)\n",
      "(20, 3, 1.0, 1.6092715217898363, 'https://ateebwritings.wordpress.com/about', 3)\n",
      "(19, 4, 1.0, 1.6092715217898363, 'https://ateebwritings.wordpress.com/contact', 4)\n",
      "(19, 2, 1.0, 1.907284766077469, 'https://ateebwritings.wordpress.com/blog', 2)\n",
      "(16, 7, 1.0, 0.47682119349683255, 'https://ateebwritings.wordpress.com/category/uncategorized', 7)\n",
      "(16, 6, 1.0, 0.47682119349683255, 'https://ateebwritings.wordpress.com/author/ateebwritingsco', 6)\n"
     ]
    }
   ],
   "source": [
    "conn = sqlite3.connect('spider.sqlite')\n",
    "cur = conn.cursor()\n",
    "\n",
    "cur.execute('''Select Count(from_id) as inbound, to_id, old_rank, new_rank, url, id \n",
    "From Pages join Links on Pages.id = Links.to_id Where html is not null\n",
    "group by id order by inbound Desc''')\n",
    "for row in cur:\n",
    "    print(row)\n"
   ]
  },
  {
   "cell_type": "code",
   "execution_count": null,
   "metadata": {},
   "outputs": [],
   "source": []
  }
 ],
 "metadata": {
  "kernelspec": {
   "display_name": "Python 3",
   "language": "python",
   "name": "python3"
  },
  "language_info": {
   "codemirror_mode": {
    "name": "ipython",
    "version": 3
   },
   "file_extension": ".py",
   "mimetype": "text/x-python",
   "name": "python",
   "nbconvert_exporter": "python",
   "pygments_lexer": "ipython3",
   "version": "3.7.6"
  }
 },
 "nbformat": 4,
 "nbformat_minor": 4
}
